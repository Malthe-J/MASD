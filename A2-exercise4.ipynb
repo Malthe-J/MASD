{
 "cells": [
  {
   "cell_type": "code",
   "execution_count": 1,
   "source": [
    "import numpy as np\n",
    "import matplotlib.pyplot as plt\n",
    "\n"
   ],
   "outputs": [],
   "metadata": {}
  },
  {
   "cell_type": "code",
   "execution_count": 2,
   "source": [
    "def plotdata(cho,nob,con):\n",
    "    fig, ax = plt.subplots()\n",
    "    ax.scatter(cho, nob)\n",
    "    for i, txt in enumerate(con):\n",
    "        ax.annotate(txt, (cho[i], nob[i]))"
   ],
   "outputs": [],
   "metadata": {}
  },
  {
   "cell_type": "code",
   "execution_count": 3,
   "source": [
    "def plotdatafit(a,b,cho,nob,con):\n",
    "    fig, ax = plt.subplots()\n",
    "    ax.scatter(cho, nob)\n",
    "    for i, txt in enumerate(con):\n",
    "        ax.annotate(txt, (cho[i], nob[i]))\n",
    "    ax.plot(cho,a*cho + b)"
   ],
   "outputs": [],
   "metadata": {}
  },
  {
   "cell_type": "code",
   "execution_count": 13,
   "source": [
    "choc = np.array([4.4, 10.2, 7.9, 8.5, 9.2, 8.8, 9.1, 4.5, 4.9, 9.1, 6.2, 3.9, 4.8, 3.5, 2.5, 2.0, 1.6, 1.8, 0.7, 1.0])\n",
    "nobel = np.array([31.855, 31.544, 25.255, 24.332, 23.368, 14.824, 12.668, 11.356, 8.990, 8.622, 7.600, 6.122, 5.451, 3.265, 1.857, 1.855, 1.701, 1.492, 0.060, 0.050])\n",
    "countries = np.array([\"Sweden\", \"Switzerland\", \"Denmark\", \"Austria\", \"Norway\", \"Ireland\", \"Germany\", \"Netherlands\", \n",
    "                  \"France\", \"Belgium\", \"Finland\", \"Canada\", \"Australia\", \"Italy\", \"Greece\", \"Portugal\", \"Spain\",\n",
    "                  \"Japan\", \"China\", \"Brazil\"])     \n",
    "n = nobel.size\n",
    "plotdatafit(choc, nobel, countries)"
   ],
   "outputs": [
    {
     "output_type": "display_data",
     "data": {
      "image/png": "[encoded data removed]",
      "text/plain": [
       "<Figure size 432x288 with 1 Axes>"
      ]
     },
     "metadata": {
      "needs_background": "light"
     }
    }
   ],
   "metadata": {}
  },
  {
   "cell_type": "code",
   "execution_count": 14,
   "source": [
    "def badness(a, b, cho, nob):\n",
    "    sum = 0.0\n",
    "    for i in range(20):\n",
    "        sum += (nob[i] - a * cho[i] - b)**2\n",
    "\n",
    "    sum /= 20.0\n",
    "    return sum\n"
   ],
   "outputs": [],
   "metadata": {}
  },
  {
   "cell_type": "code",
   "execution_count": 15,
   "source": [
    "def badnessgrad(a, b, cho, nob):\n",
    "    f_a = 0.0\n",
    "    f_b = 0.0\n",
    "    for i in range(20):\n",
    "        f_a += -2.0 * cho[i] * (nob[i] - a * cho[i] - b)\n",
    "        f_b += -2.0 * (nob[i] - a * cho[i] - b)\n",
    "    \n",
    "    f_a /= 20.0\n",
    "    f_b /= 20.0\n",
    "\n",
    "    gradient = np.vector([f_a, f_b])\n",
    "    return gradient"
   ],
   "outputs": [],
   "metadata": {}
  },
  {
   "cell_type": "code",
   "execution_count": 16,
   "source": [
    "#starting values:\n",
    "a = 1\n",
    "b = 0\n"
   ],
   "outputs": [],
   "metadata": {}
  },
  {
   "cell_type": "code",
   "execution_count": null,
   "source": [],
   "outputs": [],
   "metadata": {}
  },
  {
   "cell_type": "code",
   "execution_count": null,
   "source": [],
   "outputs": [],
   "metadata": {}
  },
  {
   "cell_type": "code",
   "execution_count": null,
   "source": [],
   "outputs": [],
   "metadata": {}
  }
 ],
 "metadata": {
  "kernelspec": {
   "name": "python3",
   "display_name": "Python 3.9.5 64-bit"
  },
  "language_info": {
   "codemirror_mode": {
    "name": "ipython",
    "version": 3
   },
   "file_extension": ".py",
   "mimetype": "text/x-python",
   "name": "python",
   "nbconvert_exporter": "python",
   "pygments_lexer": "ipython3",
   "version": "3.9.5"
  },
  "interpreter": {
   "hash": "916dbcbb3f70747c44a77c7bcd40155683ae19c65e1c03b4aa3499c5328201f1"
  }
 },
 "nbformat": 4,
 "nbformat_minor": 2
}